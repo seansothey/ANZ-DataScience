{
  "nbformat": 4,
  "nbformat_minor": 0,
  "metadata": {
    "colab": {
      "name": "ANZ_Salary_Prediction.ipynb",
      "provenance": [],
      "collapsed_sections": [],
      "authorship_tag": "ABX9TyNi9eOo0vuQif3J7x53zb40",
      "include_colab_link": true
    },
    "kernelspec": {
      "name": "python3",
      "display_name": "Python 3"
    },
    "accelerator": "GPU"
  },
  "cells": [
    {
      "cell_type": "markdown",
      "metadata": {
        "id": "view-in-github",
        "colab_type": "text"
      },
      "source": [
        "<a href=\"https://colab.research.google.com/github/seansothey/ANZ-Virtual-Internship/blob/master/ANZ_Salary_Prediction.ipynb\" target=\"_parent\"><img src=\"https://colab.research.google.com/assets/colab-badge.svg\" alt=\"Open In Colab\"/></a>"
      ]
    },
    {
      "cell_type": "markdown",
      "metadata": {
        "id": "GMQXLWPwjfCW",
        "colab_type": "text"
      },
      "source": [
        "#Regression Model"
      ]
    },
    {
      "cell_type": "code",
      "metadata": {
        "id": "8KDiwWJnAJcO",
        "colab_type": "code",
        "colab": {
          "base_uri": "https://localhost:8080/",
          "height": 51
        },
        "outputId": "1d06c98d-f799-44c9-83ee-adff8212c21e"
      },
      "source": [
        "# importing libraries\n",
        "import pandas as pd\n",
        "import numpy as np\n",
        "import matplotlib.pyplot as plt\n",
        "import seaborn as sns\n",
        "\n",
        "from sklearn.model_selection import train_test_split\n",
        "from sklearn.model_selection import GridSearchCV\n",
        "from sklearn.ensemble import GradientBoostingRegressor\n",
        "\n"
      ],
      "execution_count": 1,
      "outputs": [
        {
          "output_type": "stream",
          "text": [
            "/usr/local/lib/python3.6/dist-packages/statsmodels/tools/_testing.py:19: FutureWarning: pandas.util.testing is deprecated. Use the functions in the public API at pandas.testing instead.\n",
            "  import pandas.util.testing as tm\n"
          ],
          "name": "stderr"
        }
      ]
    },
    {
      "cell_type": "code",
      "metadata": {
        "id": "wkH_kfZcVVlZ",
        "colab_type": "code",
        "colab": {}
      },
      "source": [
        "# load the dataset\n",
        "df = pd.read_csv(\"/content/customers_salary.csv\")"
      ],
      "execution_count": null,
      "outputs": []
    },
    {
      "cell_type": "code",
      "metadata": {
        "id": "los8iScDeGpo",
        "colab_type": "code",
        "colab": {
          "base_uri": "https://localhost:8080/",
          "height": 413
        },
        "outputId": "1cd5130d-44c2-489b-837f-8d7dab532b5c"
      },
      "source": [
        "df"
      ],
      "execution_count": 4,
      "outputs": [
        {
          "output_type": "execute_result",
          "data": {
            "text/html": [
              "<div>\n",
              "<style scoped>\n",
              "    .dataframe tbody tr th:only-of-type {\n",
              "        vertical-align: middle;\n",
              "    }\n",
              "\n",
              "    .dataframe tbody tr th {\n",
              "        vertical-align: top;\n",
              "    }\n",
              "\n",
              "    .dataframe thead th {\n",
              "        text-align: right;\n",
              "    }\n",
              "</style>\n",
              "<table border=\"1\" class=\"dataframe\">\n",
              "  <thead>\n",
              "    <tr style=\"text-align: right;\">\n",
              "      <th></th>\n",
              "      <th>customer_id</th>\n",
              "      <th>first_name</th>\n",
              "      <th>age</th>\n",
              "      <th>gender</th>\n",
              "      <th>avg_monthly_salary</th>\n",
              "      <th>avg_monthly_expense</th>\n",
              "      <th>annual_expense</th>\n",
              "      <th>annual_salary</th>\n",
              "    </tr>\n",
              "  </thead>\n",
              "  <tbody>\n",
              "    <tr>\n",
              "      <th>0</th>\n",
              "      <td>CUS-1005756958</td>\n",
              "      <td>Stephanie</td>\n",
              "      <td>53</td>\n",
              "      <td>F</td>\n",
              "      <td>4205.37</td>\n",
              "      <td>1401.79</td>\n",
              "      <td>16821.48</td>\n",
              "      <td>50464.44</td>\n",
              "    </tr>\n",
              "    <tr>\n",
              "      <th>1</th>\n",
              "      <td>CUS-1117979751</td>\n",
              "      <td>Lucas</td>\n",
              "      <td>21</td>\n",
              "      <td>M</td>\n",
              "      <td>8350.18</td>\n",
              "      <td>2783.39</td>\n",
              "      <td>33400.73</td>\n",
              "      <td>100202.20</td>\n",
              "    </tr>\n",
              "    <tr>\n",
              "      <th>2</th>\n",
              "      <td>CUS-1140341822</td>\n",
              "      <td>Dustin</td>\n",
              "      <td>28</td>\n",
              "      <td>M</td>\n",
              "      <td>3833.02</td>\n",
              "      <td>1277.67</td>\n",
              "      <td>15332.08</td>\n",
              "      <td>45996.24</td>\n",
              "    </tr>\n",
              "    <tr>\n",
              "      <th>3</th>\n",
              "      <td>CUS-1147642491</td>\n",
              "      <td>Robin</td>\n",
              "      <td>34</td>\n",
              "      <td>F</td>\n",
              "      <td>7416.02</td>\n",
              "      <td>2472.01</td>\n",
              "      <td>29664.09</td>\n",
              "      <td>88992.28</td>\n",
              "    </tr>\n",
              "    <tr>\n",
              "      <th>4</th>\n",
              "      <td>CUS-1196156254</td>\n",
              "      <td>Jessica</td>\n",
              "      <td>34</td>\n",
              "      <td>F</td>\n",
              "      <td>9108.70</td>\n",
              "      <td>3036.23</td>\n",
              "      <td>36434.81</td>\n",
              "      <td>109304.44</td>\n",
              "    </tr>\n",
              "    <tr>\n",
              "      <th>...</th>\n",
              "      <td>...</td>\n",
              "      <td>...</td>\n",
              "      <td>...</td>\n",
              "      <td>...</td>\n",
              "      <td>...</td>\n",
              "      <td>...</td>\n",
              "      <td>...</td>\n",
              "      <td>...</td>\n",
              "    </tr>\n",
              "    <tr>\n",
              "      <th>95</th>\n",
              "      <td>CUS-72755508</td>\n",
              "      <td>Kimberly</td>\n",
              "      <td>35</td>\n",
              "      <td>F</td>\n",
              "      <td>2901.28</td>\n",
              "      <td>967.09</td>\n",
              "      <td>11605.12</td>\n",
              "      <td>34815.36</td>\n",
              "    </tr>\n",
              "    <tr>\n",
              "      <th>96</th>\n",
              "      <td>CUS-809013380</td>\n",
              "      <td>Kaitlyn</td>\n",
              "      <td>21</td>\n",
              "      <td>F</td>\n",
              "      <td>4493.97</td>\n",
              "      <td>1497.99</td>\n",
              "      <td>17975.88</td>\n",
              "      <td>53927.64</td>\n",
              "    </tr>\n",
              "    <tr>\n",
              "      <th>97</th>\n",
              "      <td>CUS-860700529</td>\n",
              "      <td>Jeffrey</td>\n",
              "      <td>30</td>\n",
              "      <td>M</td>\n",
              "      <td>3617.24</td>\n",
              "      <td>1205.75</td>\n",
              "      <td>14468.96</td>\n",
              "      <td>43406.88</td>\n",
              "    </tr>\n",
              "    <tr>\n",
              "      <th>98</th>\n",
              "      <td>CUS-880898248</td>\n",
              "      <td>Robert</td>\n",
              "      <td>26</td>\n",
              "      <td>M</td>\n",
              "      <td>2867.96</td>\n",
              "      <td>955.99</td>\n",
              "      <td>11471.84</td>\n",
              "      <td>34415.52</td>\n",
              "    </tr>\n",
              "    <tr>\n",
              "      <th>99</th>\n",
              "      <td>CUS-883482547</td>\n",
              "      <td>Michelle</td>\n",
              "      <td>19</td>\n",
              "      <td>F</td>\n",
              "      <td>9280.74</td>\n",
              "      <td>3093.58</td>\n",
              "      <td>37122.96</td>\n",
              "      <td>111368.88</td>\n",
              "    </tr>\n",
              "  </tbody>\n",
              "</table>\n",
              "<p>100 rows × 8 columns</p>\n",
              "</div>"
            ],
            "text/plain": [
              "       customer_id first_name  ...  annual_expense annual_salary\n",
              "0   CUS-1005756958  Stephanie  ...        16821.48      50464.44\n",
              "1   CUS-1117979751      Lucas  ...        33400.73     100202.20\n",
              "2   CUS-1140341822     Dustin  ...        15332.08      45996.24\n",
              "3   CUS-1147642491      Robin  ...        29664.09      88992.28\n",
              "4   CUS-1196156254    Jessica  ...        36434.81     109304.44\n",
              "..             ...        ...  ...             ...           ...\n",
              "95    CUS-72755508   Kimberly  ...        11605.12      34815.36\n",
              "96   CUS-809013380    Kaitlyn  ...        17975.88      53927.64\n",
              "97   CUS-860700529    Jeffrey  ...        14468.96      43406.88\n",
              "98   CUS-880898248     Robert  ...        11471.84      34415.52\n",
              "99   CUS-883482547   Michelle  ...        37122.96     111368.88\n",
              "\n",
              "[100 rows x 8 columns]"
            ]
          },
          "metadata": {
            "tags": []
          },
          "execution_count": 4
        }
      ]
    },
    {
      "cell_type": "code",
      "metadata": {
        "id": "PYbbYGKotjxG",
        "colab_type": "code",
        "colab": {
          "base_uri": "https://localhost:8080/",
          "height": 475
        },
        "outputId": "1e7e437c-6a25-4dc1-a156-3cf748c0de29"
      },
      "source": [
        "# Scatter plot age VS annual_expense\n",
        "\n",
        "ax1 = df[df['gender'] == 'M'].plot(kind='scatter', x='age', y='annual_expense', color='blue', alpha=0.5, figsize=(10, 7))\n",
        "df[df['gender'] == 'F'].plot(kind='scatter', x='age', y='annual_expense', color='magenta', alpha=0.5, figsize=(10 ,7), ax=ax1)\n",
        "plt.legend(labels=['Male', 'Female'])\n",
        "plt.title('Relationship between age and annual expense', size=24)\n",
        "plt.xlabel('age', size=18)\n",
        "plt.ylabel('annual expense', size=18);"
      ],
      "execution_count": 5,
      "outputs": [
        {
          "output_type": "display_data",
          "data": {
            "image/png": "[encoded data removed]",
            "text/plain": [
              "<Figure size 720x504 with 1 Axes>"
            ]
          },
          "metadata": {
            "tags": [],
            "needs_background": "light"
          }
        }
      ]
    },
    {
      "cell_type": "code",
      "metadata": {
        "id": "ayVmqncyzdxz",
        "colab_type": "code",
        "colab": {
          "base_uri": "https://localhost:8080/",
          "height": 1000
        },
        "outputId": "cf6027c0-b964-4c37-e591-b7d2a56fc402"
      },
      "source": [
        "#See the data distribution\n",
        "df.hist(figsize=(20,20))"
      ],
      "execution_count": 6,
      "outputs": [
        {
          "output_type": "execute_result",
          "data": {
            "text/plain": [
              "array([[<matplotlib.axes._subplots.AxesSubplot object at 0x7fb261928828>,\n",
              "        <matplotlib.axes._subplots.AxesSubplot object at 0x7fb261368c88>],\n",
              "       [<matplotlib.axes._subplots.AxesSubplot object at 0x7fb261319ef0>,\n",
              "        <matplotlib.axes._subplots.AxesSubplot object at 0x7fb2612d4198>],\n",
              "       [<matplotlib.axes._subplots.AxesSubplot object at 0x7fb261286400>,\n",
              "        <matplotlib.axes._subplots.AxesSubplot object at 0x7fb2612b4668>]],\n",
              "      dtype=object)"
            ]
          },
          "metadata": {
            "tags": []
          },
          "execution_count": 6
        },
        {
          "output_type": "display_data",
          "data": {
            "image/png": "[encoded data removed]",
            "text/plain": [
              "<Figure size 1440x1440 with 6 Axes>"
            ]
          },
          "metadata": {
            "tags": [],
            "needs_background": "light"
          }
        }
      ]
    },
    {
      "cell_type": "code",
      "metadata": {
        "id": "SHuvEQIDVZMP",
        "colab_type": "code",
        "colab": {}
      },
      "source": [
        "df.drop(columns=['customer_id', 'first_name', 'gender'], inplace=True)"
      ],
      "execution_count": 7,
      "outputs": []
    },
    {
      "cell_type": "code",
      "metadata": {
        "id": "okYgp88KVfvt",
        "colab_type": "code",
        "colab": {}
      },
      "source": [
        "# create X and y\n",
        "X = df.iloc[:,0:4]\n",
        "y = df.iloc[:,-1]"
      ],
      "execution_count": 8,
      "outputs": []
    },
    {
      "cell_type": "code",
      "metadata": {
        "id": "OQ8sebKOaLgp",
        "colab_type": "code",
        "colab": {
          "base_uri": "https://localhost:8080/",
          "height": 413
        },
        "outputId": "28c7737d-609c-430f-c2ff-72f18f1e4bcd"
      },
      "source": [
        "X"
      ],
      "execution_count": 9,
      "outputs": [
        {
          "output_type": "execute_result",
          "data": {
            "text/html": [
              "<div>\n",
              "<style scoped>\n",
              "    .dataframe tbody tr th:only-of-type {\n",
              "        vertical-align: middle;\n",
              "    }\n",
              "\n",
              "    .dataframe tbody tr th {\n",
              "        vertical-align: top;\n",
              "    }\n",
              "\n",
              "    .dataframe thead th {\n",
              "        text-align: right;\n",
              "    }\n",
              "</style>\n",
              "<table border=\"1\" class=\"dataframe\">\n",
              "  <thead>\n",
              "    <tr style=\"text-align: right;\">\n",
              "      <th></th>\n",
              "      <th>age</th>\n",
              "      <th>avg_monthly_salary</th>\n",
              "      <th>avg_monthly_expense</th>\n",
              "      <th>annual_expense</th>\n",
              "    </tr>\n",
              "  </thead>\n",
              "  <tbody>\n",
              "    <tr>\n",
              "      <th>0</th>\n",
              "      <td>53</td>\n",
              "      <td>4205.37</td>\n",
              "      <td>1401.79</td>\n",
              "      <td>16821.48</td>\n",
              "    </tr>\n",
              "    <tr>\n",
              "      <th>1</th>\n",
              "      <td>21</td>\n",
              "      <td>8350.18</td>\n",
              "      <td>2783.39</td>\n",
              "      <td>33400.73</td>\n",
              "    </tr>\n",
              "    <tr>\n",
              "      <th>2</th>\n",
              "      <td>28</td>\n",
              "      <td>3833.02</td>\n",
              "      <td>1277.67</td>\n",
              "      <td>15332.08</td>\n",
              "    </tr>\n",
              "    <tr>\n",
              "      <th>3</th>\n",
              "      <td>34</td>\n",
              "      <td>7416.02</td>\n",
              "      <td>2472.01</td>\n",
              "      <td>29664.09</td>\n",
              "    </tr>\n",
              "    <tr>\n",
              "      <th>4</th>\n",
              "      <td>34</td>\n",
              "      <td>9108.70</td>\n",
              "      <td>3036.23</td>\n",
              "      <td>36434.81</td>\n",
              "    </tr>\n",
              "    <tr>\n",
              "      <th>...</th>\n",
              "      <td>...</td>\n",
              "      <td>...</td>\n",
              "      <td>...</td>\n",
              "      <td>...</td>\n",
              "    </tr>\n",
              "    <tr>\n",
              "      <th>95</th>\n",
              "      <td>35</td>\n",
              "      <td>2901.28</td>\n",
              "      <td>967.09</td>\n",
              "      <td>11605.12</td>\n",
              "    </tr>\n",
              "    <tr>\n",
              "      <th>96</th>\n",
              "      <td>21</td>\n",
              "      <td>4493.97</td>\n",
              "      <td>1497.99</td>\n",
              "      <td>17975.88</td>\n",
              "    </tr>\n",
              "    <tr>\n",
              "      <th>97</th>\n",
              "      <td>30</td>\n",
              "      <td>3617.24</td>\n",
              "      <td>1205.75</td>\n",
              "      <td>14468.96</td>\n",
              "    </tr>\n",
              "    <tr>\n",
              "      <th>98</th>\n",
              "      <td>26</td>\n",
              "      <td>2867.96</td>\n",
              "      <td>955.99</td>\n",
              "      <td>11471.84</td>\n",
              "    </tr>\n",
              "    <tr>\n",
              "      <th>99</th>\n",
              "      <td>19</td>\n",
              "      <td>9280.74</td>\n",
              "      <td>3093.58</td>\n",
              "      <td>37122.96</td>\n",
              "    </tr>\n",
              "  </tbody>\n",
              "</table>\n",
              "<p>100 rows × 4 columns</p>\n",
              "</div>"
            ],
            "text/plain": [
              "    age  avg_monthly_salary  avg_monthly_expense  annual_expense\n",
              "0    53             4205.37              1401.79        16821.48\n",
              "1    21             8350.18              2783.39        33400.73\n",
              "2    28             3833.02              1277.67        15332.08\n",
              "3    34             7416.02              2472.01        29664.09\n",
              "4    34             9108.70              3036.23        36434.81\n",
              "..  ...                 ...                  ...             ...\n",
              "95   35             2901.28               967.09        11605.12\n",
              "96   21             4493.97              1497.99        17975.88\n",
              "97   30             3617.24              1205.75        14468.96\n",
              "98   26             2867.96               955.99        11471.84\n",
              "99   19             9280.74              3093.58        37122.96\n",
              "\n",
              "[100 rows x 4 columns]"
            ]
          },
          "metadata": {
            "tags": []
          },
          "execution_count": 9
        }
      ]
    },
    {
      "cell_type": "code",
      "metadata": {
        "id": "tl8U6G4bbfpE",
        "colab_type": "code",
        "colab": {
          "base_uri": "https://localhost:8080/",
          "height": 224
        },
        "outputId": "bf0caadb-03b2-4b4a-8476-37abd5b36978"
      },
      "source": [
        "y"
      ],
      "execution_count": 10,
      "outputs": [
        {
          "output_type": "execute_result",
          "data": {
            "text/plain": [
              "0      50464.44\n",
              "1     100202.20\n",
              "2      45996.24\n",
              "3      88992.28\n",
              "4     109304.44\n",
              "        ...    \n",
              "95     34815.36\n",
              "96     53927.64\n",
              "97     43406.88\n",
              "98     34415.52\n",
              "99    111368.88\n",
              "Name: annual_salary, Length: 100, dtype: float64"
            ]
          },
          "metadata": {
            "tags": []
          },
          "execution_count": 10
        }
      ]
    },
    {
      "cell_type": "code",
      "metadata": {
        "id": "8wRgpmUnb3Qy",
        "colab_type": "code",
        "colab": {}
      },
      "source": [
        "# splitting dataset\n",
        "X_train, X_test, y_train, y_test = train_test_split(X, y, test_size=0.2, shuffle = True, random_state=42)"
      ],
      "execution_count": 11,
      "outputs": []
    },
    {
      "cell_type": "code",
      "metadata": {
        "id": "P0gDZwVREfBF",
        "colab_type": "code",
        "colab": {
          "base_uri": "https://localhost:8080/",
          "height": 465
        },
        "outputId": "5e1b0d13-e5c0-4256-c199-5a9c3d0af245"
      },
      "source": [
        "model = GradientBoostingRegressor()\n",
        "parameters = {'learning_rate': [0.01,0.02,0.03,0.04,0.05],\n",
        "              'subsample'    : [0.9, 0.5, 0.2],\n",
        "              'n_estimators' : [50,100,300,500],\n",
        "              'max_depth'    : [4,6,8] \n",
        "              }\n",
        "grid = GridSearchCV(estimator=model, param_grid = parameters, cv = 5, n_jobs=-1, )\n",
        "grid.fit(X_train, y_train)    "
      ],
      "execution_count": 12,
      "outputs": [
        {
          "output_type": "execute_result",
          "data": {
            "text/plain": [
              "GridSearchCV(cv=5, error_score=nan,\n",
              "             estimator=GradientBoostingRegressor(alpha=0.9, ccp_alpha=0.0,\n",
              "                                                 criterion='friedman_mse',\n",
              "                                                 init=None, learning_rate=0.1,\n",
              "                                                 loss='ls', max_depth=3,\n",
              "                                                 max_features=None,\n",
              "                                                 max_leaf_nodes=None,\n",
              "                                                 min_impurity_decrease=0.0,\n",
              "                                                 min_impurity_split=None,\n",
              "                                                 min_samples_leaf=1,\n",
              "                                                 min_samples_split=2,\n",
              "                                                 min_weight_fraction_leaf=0.0,\n",
              "                                                 n_estimators=100,\n",
              "                                                 n_iter_n...\n",
              "                                                 presort='deprecated',\n",
              "                                                 random_state=None,\n",
              "                                                 subsample=1.0, tol=0.0001,\n",
              "                                                 validation_fraction=0.1,\n",
              "                                                 verbose=0, warm_start=False),\n",
              "             iid='deprecated', n_jobs=-1,\n",
              "             param_grid={'learning_rate': [0.01, 0.02, 0.03, 0.04, 0.05],\n",
              "                         'max_depth': [4, 6, 8],\n",
              "                         'n_estimators': [50, 100, 300, 500],\n",
              "                         'subsample': [0.9, 0.5, 0.2]},\n",
              "             pre_dispatch='2*n_jobs', refit=True, return_train_score=False,\n",
              "             scoring=None, verbose=0)"
            ]
          },
          "metadata": {
            "tags": []
          },
          "execution_count": 12
        }
      ]
    },
    {
      "cell_type": "code",
      "metadata": {
        "id": "aifzdPSKgP0J",
        "colab_type": "code",
        "colab": {
          "base_uri": "https://localhost:8080/",
          "height": 172
        },
        "outputId": "c0deaf8e-4c8b-4e71-f977-e983e22b941f"
      },
      "source": [
        "best_model = grid.best_estimator_\n",
        "print(best_model)"
      ],
      "execution_count": 13,
      "outputs": [
        {
          "output_type": "stream",
          "text": [
            "GradientBoostingRegressor(alpha=0.9, ccp_alpha=0.0, criterion='friedman_mse',\n",
            "                          init=None, learning_rate=0.03, loss='ls', max_depth=8,\n",
            "                          max_features=None, max_leaf_nodes=None,\n",
            "                          min_impurity_decrease=0.0, min_impurity_split=None,\n",
            "                          min_samples_leaf=1, min_samples_split=2,\n",
            "                          min_weight_fraction_leaf=0.0, n_estimators=300,\n",
            "                          n_iter_no_change=None, presort='deprecated',\n",
            "                          random_state=None, subsample=0.9, tol=0.0001,\n",
            "                          validation_fraction=0.1, verbose=0, warm_start=False)\n"
          ],
          "name": "stdout"
        }
      ]
    },
    {
      "cell_type": "code",
      "metadata": {
        "id": "pxUGeR4ahAZq",
        "colab_type": "code",
        "colab": {
          "base_uri": "https://localhost:8080/",
          "height": 34
        },
        "outputId": "6fc3d9dd-82b8-4a92-9b46-08bf9e6297fd"
      },
      "source": [
        "best_model.score(X_test, y_test)"
      ],
      "execution_count": 14,
      "outputs": [
        {
          "output_type": "execute_result",
          "data": {
            "text/plain": [
              "0.9977593019631552"
            ]
          },
          "metadata": {
            "tags": []
          },
          "execution_count": 14
        }
      ]
    },
    {
      "cell_type": "code",
      "metadata": {
        "id": "50QZXBMZhwTU",
        "colab_type": "code",
        "colab": {}
      },
      "source": [
        "y_pred = best_model.predict(X_test)"
      ],
      "execution_count": 15,
      "outputs": []
    },
    {
      "cell_type": "code",
      "metadata": {
        "id": "Fy_tWxPXmtTM",
        "colab_type": "code",
        "colab": {
          "base_uri": "https://localhost:8080/",
          "height": 659
        },
        "outputId": "5ae67613-9251-4380-aabc-0c5e5c139995"
      },
      "source": [
        "salary = pd.DataFrame({'Actual': y_test, 'Predicted': y_pred})\n",
        "salary"
      ],
      "execution_count": 16,
      "outputs": [
        {
          "output_type": "execute_result",
          "data": {
            "text/html": [
              "<div>\n",
              "<style scoped>\n",
              "    .dataframe tbody tr th:only-of-type {\n",
              "        vertical-align: middle;\n",
              "    }\n",
              "\n",
              "    .dataframe tbody tr th {\n",
              "        vertical-align: top;\n",
              "    }\n",
              "\n",
              "    .dataframe thead th {\n",
              "        text-align: right;\n",
              "    }\n",
              "</style>\n",
              "<table border=\"1\" class=\"dataframe\">\n",
              "  <thead>\n",
              "    <tr style=\"text-align: right;\">\n",
              "      <th></th>\n",
              "      <th>Actual</th>\n",
              "      <th>Predicted</th>\n",
              "    </tr>\n",
              "  </thead>\n",
              "  <tbody>\n",
              "    <tr>\n",
              "      <th>83</th>\n",
              "      <td>59810.24</td>\n",
              "      <td>60005.291602</td>\n",
              "    </tr>\n",
              "    <tr>\n",
              "      <th>53</th>\n",
              "      <td>97314.48</td>\n",
              "      <td>97969.008268</td>\n",
              "    </tr>\n",
              "    <tr>\n",
              "      <th>70</th>\n",
              "      <td>55068.16</td>\n",
              "      <td>55111.760958</td>\n",
              "    </tr>\n",
              "    <tr>\n",
              "      <th>45</th>\n",
              "      <td>39379.92</td>\n",
              "      <td>39592.061245</td>\n",
              "    </tr>\n",
              "    <tr>\n",
              "      <th>44</th>\n",
              "      <td>102070.20</td>\n",
              "      <td>101197.029752</td>\n",
              "    </tr>\n",
              "    <tr>\n",
              "      <th>39</th>\n",
              "      <td>36986.88</td>\n",
              "      <td>36762.502747</td>\n",
              "    </tr>\n",
              "    <tr>\n",
              "      <th>22</th>\n",
              "      <td>61538.96</td>\n",
              "      <td>60477.808485</td>\n",
              "    </tr>\n",
              "    <tr>\n",
              "      <th>80</th>\n",
              "      <td>40357.92</td>\n",
              "      <td>40134.932806</td>\n",
              "    </tr>\n",
              "    <tr>\n",
              "      <th>10</th>\n",
              "      <td>106001.84</td>\n",
              "      <td>110038.089455</td>\n",
              "    </tr>\n",
              "    <tr>\n",
              "      <th>0</th>\n",
              "      <td>50464.44</td>\n",
              "      <td>50309.941734</td>\n",
              "    </tr>\n",
              "    <tr>\n",
              "      <th>18</th>\n",
              "      <td>46388.68</td>\n",
              "      <td>46013.848542</td>\n",
              "    </tr>\n",
              "    <tr>\n",
              "      <th>30</th>\n",
              "      <td>55408.08</td>\n",
              "      <td>55425.111313</td>\n",
              "    </tr>\n",
              "    <tr>\n",
              "      <th>73</th>\n",
              "      <td>115702.44</td>\n",
              "      <td>117508.299288</td>\n",
              "    </tr>\n",
              "    <tr>\n",
              "      <th>33</th>\n",
              "      <td>81130.40</td>\n",
              "      <td>79481.900786</td>\n",
              "    </tr>\n",
              "    <tr>\n",
              "      <th>90</th>\n",
              "      <td>72293.88</td>\n",
              "      <td>72090.536968</td>\n",
              "    </tr>\n",
              "    <tr>\n",
              "      <th>4</th>\n",
              "      <td>109304.44</td>\n",
              "      <td>110964.629248</td>\n",
              "    </tr>\n",
              "    <tr>\n",
              "      <th>76</th>\n",
              "      <td>46295.28</td>\n",
              "      <td>46078.192394</td>\n",
              "    </tr>\n",
              "    <tr>\n",
              "      <th>77</th>\n",
              "      <td>76680.24</td>\n",
              "      <td>77505.512406</td>\n",
              "    </tr>\n",
              "    <tr>\n",
              "      <th>12</th>\n",
              "      <td>39426.24</td>\n",
              "      <td>39592.061245</td>\n",
              "    </tr>\n",
              "    <tr>\n",
              "      <th>31</th>\n",
              "      <td>69590.36</td>\n",
              "      <td>69285.450576</td>\n",
              "    </tr>\n",
              "  </tbody>\n",
              "</table>\n",
              "</div>"
            ],
            "text/plain": [
              "       Actual      Predicted\n",
              "83   59810.24   60005.291602\n",
              "53   97314.48   97969.008268\n",
              "70   55068.16   55111.760958\n",
              "45   39379.92   39592.061245\n",
              "44  102070.20  101197.029752\n",
              "39   36986.88   36762.502747\n",
              "22   61538.96   60477.808485\n",
              "80   40357.92   40134.932806\n",
              "10  106001.84  110038.089455\n",
              "0    50464.44   50309.941734\n",
              "18   46388.68   46013.848542\n",
              "30   55408.08   55425.111313\n",
              "73  115702.44  117508.299288\n",
              "33   81130.40   79481.900786\n",
              "90   72293.88   72090.536968\n",
              "4   109304.44  110964.629248\n",
              "76   46295.28   46078.192394\n",
              "77   76680.24   77505.512406\n",
              "12   39426.24   39592.061245\n",
              "31   69590.36   69285.450576"
            ]
          },
          "metadata": {
            "tags": []
          },
          "execution_count": 16
        }
      ]
    },
    {
      "cell_type": "markdown",
      "metadata": {
        "id": "RMGbWjDvjow9",
        "colab_type": "text"
      },
      "source": [
        "#Decision Tree Model\n"
      ]
    },
    {
      "cell_type": "code",
      "metadata": {
        "id": "7fjJtxqDyAWr",
        "colab_type": "code",
        "colab": {}
      },
      "source": [
        "# import libraries\n",
        "\n",
        "from sklearn.tree import DecisionTreeClassifier, plot_tree\n",
        "from sklearn.model_selection import train_test_split, cross_val_score, GridSearchCV\n",
        "from sklearn.metrics import confusion_matrix, plot_confusion_matrix\n",
        "from sklearn.pipeline import Pipeline, make_pipeline"
      ],
      "execution_count": 17,
      "outputs": []
    },
    {
      "cell_type": "code",
      "metadata": {
        "id": "-HebSdRfA3En",
        "colab_type": "code",
        "colab": {}
      },
      "source": [
        "# convert y labels to category\n",
        "\n",
        "y_train = pd.cut(x=y_train, bins=[0, 50000, 75000, 100000, 200000], labels=['0-50K', '50-75K', '75-100K', '100K+'])\n",
        "y_test = pd.cut(x=y_test, bins=[0, 50000, 75000, 100000, 200000], labels=['0-50K', '50-75K', '75-100K', '100K+'])"
      ],
      "execution_count": 18,
      "outputs": []
    },
    {
      "cell_type": "code",
      "metadata": {
        "id": "UH223mA7BTtS",
        "colab_type": "code",
        "colab": {
          "base_uri": "https://localhost:8080/",
          "height": 241
        },
        "outputId": "b6a03d00-cd61-4128-a33b-771f94cb4186"
      },
      "source": [
        "y_train"
      ],
      "execution_count": 19,
      "outputs": [
        {
          "output_type": "execute_result",
          "data": {
            "text/plain": [
              "55      0-50K\n",
              "88     50-75K\n",
              "26    75-100K\n",
              "42     50-75K\n",
              "69      0-50K\n",
              "       ...   \n",
              "60     50-75K\n",
              "71      0-50K\n",
              "14    75-100K\n",
              "92     50-75K\n",
              "51      0-50K\n",
              "Name: annual_salary, Length: 80, dtype: category\n",
              "Categories (4, object): [0-50K < 50-75K < 75-100K < 100K+]"
            ]
          },
          "metadata": {
            "tags": []
          },
          "execution_count": 19
        }
      ]
    },
    {
      "cell_type": "code",
      "metadata": {
        "id": "p4wx_vQ-yA3s",
        "colab_type": "code",
        "colab": {}
      },
      "source": [
        "# build the decision tree model\n",
        "\n",
        "def DT_GridSearchCV(X,y):\n",
        "    #create a dictionary of all values we want to test\n",
        "    param_grid = {\n",
        "                  'ccp_alpha' : np.arange(0, 0.2, 0.01),\n",
        "                  'criterion':['gini','entropy'],\n",
        "                  #'max_depth': np.arange(4, 40, 2),\n",
        "                  'splitter' : ['best', 'random'],\n",
        "                  'max_features' : ['None', 'auto', 'sqrt', 'log2'],\n",
        "                  'min_weight_fraction_leaf' : np.arange(0, 1, 0.1),\n",
        "                  'class_weight' : ['None', 'balanced'],\n",
        "                  'random_state' : np.arange(0, 101, 10)\n",
        "                  }\n",
        "    #decision tree model\n",
        "    model_DT = DecisionTreeClassifier()\n",
        "    #use gridsearch to test all values\n",
        "    model_gs = GridSearchCV(model_DT, param_grid, cv=5, verbose=0, n_jobs=-1)\n",
        "    #fit model with data\n",
        "    model_gs.fit(X, y)\n",
        "    return model_gs.best_estimator_"
      ],
      "execution_count": 20,
      "outputs": []
    },
    {
      "cell_type": "code",
      "metadata": {
        "id": "DhGtEbgl1d9u",
        "colab_type": "code",
        "colab": {}
      },
      "source": [
        "\n",
        "best_model = DT_GridSearchCV(X_train, y_train)"
      ],
      "execution_count": 21,
      "outputs": []
    },
    {
      "cell_type": "code",
      "metadata": {
        "id": "Kg8p2VDs1kQn",
        "colab_type": "code",
        "colab": {
          "base_uri": "https://localhost:8080/",
          "height": 120
        },
        "outputId": "a13591ea-c934-465b-c500-ba446a25b5ee"
      },
      "source": [
        "print(best_model)"
      ],
      "execution_count": 22,
      "outputs": [
        {
          "output_type": "stream",
          "text": [
            "DecisionTreeClassifier(ccp_alpha=0.0, class_weight='balanced', criterion='gini',\n",
            "                       max_depth=None, max_features='auto', max_leaf_nodes=None,\n",
            "                       min_impurity_decrease=0.0, min_impurity_split=None,\n",
            "                       min_samples_leaf=1, min_samples_split=2,\n",
            "                       min_weight_fraction_leaf=0.0, presort='deprecated',\n",
            "                       random_state=10, splitter='best')\n"
          ],
          "name": "stdout"
        }
      ]
    },
    {
      "cell_type": "code",
      "metadata": {
        "id": "ugKJDPic1pO2",
        "colab_type": "code",
        "colab": {
          "base_uri": "https://localhost:8080/",
          "height": 34
        },
        "outputId": "a18b50e4-1dc2-4639-e55c-94d46a013f08"
      },
      "source": [
        "best_model.score(X_test, y_test)"
      ],
      "execution_count": 23,
      "outputs": [
        {
          "output_type": "execute_result",
          "data": {
            "text/plain": [
              "1.0"
            ]
          },
          "metadata": {
            "tags": []
          },
          "execution_count": 23
        }
      ]
    },
    {
      "cell_type": "code",
      "metadata": {
        "id": "765-9TOi17yx",
        "colab_type": "code",
        "colab": {
          "base_uri": "https://localhost:8080/",
          "height": 586
        },
        "outputId": "e2f5bf00-d6cb-4d8b-a753-a63a4ed6c6c7"
      },
      "source": [
        "# plot the decision tree after pruning \n",
        "plt.figure(figsize=(12, 8))\n",
        "plot_tree(best_model,\n",
        "          filled=True,\n",
        "          rounded=True,\n",
        "          class_names=['0-50K', '50-75K', '75-100K', '100K+'],\n",
        "          feature_names=X.columns)"
      ],
      "execution_count": 25,
      "outputs": [
        {
          "output_type": "execute_result",
          "data": {
            "text/plain": [
              "[Text(446.40000000000003, 380.52, 'annual_expense <= 33115.881\\ngini = 0.75\\nsamples = 80\\nvalue = [20.0, 20.0, 20.0, 20.0]\\nclass = 75-100K'),\n",
              " Text(334.8, 271.8, 'avg_monthly_salary <= 6344.755\\ngini = 0.667\\nsamples = 69\\nvalue = [20.0, 0.0, 20.0, 20.0]\\nclass = 75-100K'),\n",
              " Text(223.20000000000002, 163.07999999999998, 'annual_expense <= 16609.2\\ngini = 0.5\\nsamples = 57\\nvalue = [20.0, 0.0, 20.0, 0.0]\\nclass = 75-100K'),\n",
              " Text(111.60000000000001, 54.360000000000014, 'gini = 0.0\\nsamples = 22\\nvalue = [20.0, 0.0, 0.0, 0.0]\\nclass = 0-50K'),\n",
              " Text(334.8, 54.360000000000014, 'gini = 0.0\\nsamples = 35\\nvalue = [0.0, 0.0, 20.0, 0.0]\\nclass = 75-100K'),\n",
              " Text(446.40000000000003, 163.07999999999998, 'gini = -0.0\\nsamples = 12\\nvalue = [0, 0, 0, 20]\\nclass = 100K+'),\n",
              " Text(558.0, 271.8, 'gini = -0.0\\nsamples = 11\\nvalue = [0.0, 20.0, 0.0, 0.0]\\nclass = 50-75K')]"
            ]
          },
          "metadata": {
            "tags": []
          },
          "execution_count": 25
        },
        {
          "output_type": "display_data",
          "data": {
            "image/png": "[encoded data removed]",
            "text/plain": [
              "<Figure size 864x576 with 1 Axes>"
            ]
          },
          "metadata": {
            "tags": [],
            "needs_background": "light"
          }
        }
      ]
    }
  ]
}